{
 "cells": [
  {
   "cell_type": "markdown",
   "id": "9ff775e1",
   "metadata": {},
   "source": [
    "#### Q1.Explain Class and Object with respect to Object-Oriented Programming. Give a suitable example"
   ]
  },
  {
   "cell_type": "markdown",
   "id": "a3b053a8",
   "metadata": {},
   "source": [
    "Ans) In Object-Oriented Programming (OOP), a **class** is a blueprint or template that defines the attributes (variables) and behaviors (methods) of objects. It serves as a fundamental concept in OOP that allows for the creation of multiple instances with the same structure but different values. A class does not store any data by itself but provides a structure to organize data and functionalities.\n",
    "\n",
    "An **object** is an instance of a class, meaning it has a unique identity, state, and behavior. Objects are created using the class definition and hold specific values for the attributes defined within the class. Every object operates independently and can interact with other objects in a structured manner."
   ]
  },
  {
   "cell_type": "code",
   "execution_count": 4,
   "id": "db12766a",
   "metadata": {},
   "outputs": [
    {
     "name": "stdout",
     "output_type": "stream",
     "text": [
      "2023 Toyota Hilux\n",
      "2022 Honda Civic\n"
     ]
    }
   ],
   "source": [
    "class Car:\n",
    "    def __init__(self, brand, model, year):\n",
    "        self.brand = brand\n",
    "        self.model = model\n",
    "        self.year = year\n",
    "\n",
    "    def car_details(self):\n",
    "        return f\"{self.year} {self.brand} {self.model}\"\n",
    "\n",
    "# Creating objects\n",
    "car1 = Car(\"Toyota\", \"Hilux\", 2023)\n",
    "car2 = Car(\"Honda\", \"Civic\", 2022)\n",
    "\n",
    "print(car1.car_details())  \n",
    "print(car2.car_details())  \n"
   ]
  },
  {
   "cell_type": "markdown",
   "id": "408d749e",
   "metadata": {},
   "source": [
    "#### Q2.Name the four pillars of OOPs."
   ]
  },
  {
   "cell_type": "markdown",
   "id": "a74fd274",
   "metadata": {},
   "source": [
    "Ans) Object-Oriented Programming is based on four fundamental principles, often called the four pillars of OOPs:\n",
    "\n",
    "**Encapsulation** – This concept involves bundling data (variables) and methods (functions) that operate on the data into a single unit, a class. It restricts direct access to some of an object’s details, preventing unintended modifications. Encapsulation ensures that data is accessed only through defined methods, improving security.\n",
    "\n",
    "**Abstraction** – Abstraction hides complex implementation details and exposes only the necessary features of an object. This is similar to how an ATM machine works; users interact with it through buttons and screens without knowing the internal mechanics.\n",
    "\n",
    "**Inheritance** – This principle allows a class (child class) to inherit properties and methods from another class (parent class). This promotes reusability and reduces redundancy in code. For example, a Vehicle class can have Car and Bike classes inherit common properties like speed and fuel capacity.\n",
    "\n",
    "**Polymorphism** – Polymorphism allows methods to take different forms based on the object using them. A function with the same name can work differently in different scenarios, such as method overriding in subclasses."
   ]
  },
  {
   "cell_type": "markdown",
   "id": "96f1f5ae",
   "metadata": {},
   "source": [
    "#### Q3.Explain why the __init__() function is used. Give a suitable example."
   ]
  },
  {
   "cell_type": "markdown",
   "id": "2bb741f4",
   "metadata": {},
   "source": [
    "Ans) The **__init__() function** in Python is a constructor method that is automatically called when an object is created from a class. It is used to initialize object attributes with specific values at the time of object creation. This method ensures that each object starts with a defined set of properties."
   ]
  },
  {
   "cell_type": "code",
   "execution_count": 5,
   "id": "8a9987ab",
   "metadata": {},
   "outputs": [
    {
     "name": "stdout",
     "output_type": "stream",
     "text": [
      "Student: Adam, Age: 20\n",
      "Student: Gunther, Age: 22\n"
     ]
    }
   ],
   "source": [
    "class Student:\n",
    "    def __init__(self, name, age):\n",
    "        self.name = name\n",
    "        self.age = age\n",
    "\n",
    "    def get_details(self):\n",
    "        return f\"Student: {self.name}, Age: {self.age}\"\n",
    "\n",
    "# Creating objects\n",
    "s1 = Student(\"Adam\", 20)\n",
    "s2 = Student(\"Gunther\", 22)\n",
    "\n",
    "print(s1.get_details())  \n",
    "print(s2.get_details())  \n"
   ]
  },
  {
   "cell_type": "markdown",
   "id": "a45ccdc7",
   "metadata": {},
   "source": [
    "#### Q4.Why self is used in OOPs?"
   ]
  },
  {
   "cell_type": "markdown",
   "id": "87f8896b",
   "metadata": {},
   "source": [
    "Ans) In Python, **self** is a reference to the current instance of a class. It is used to access attributes and methods inside the class. The self parameter ensures that each object maintains its unique data and does not overwrite shared values. It allows methods to work with instance-specific data.If we did not use self, the method would not be able to differentiate between different objects and their data."
   ]
  },
  {
   "cell_type": "markdown",
   "id": "a81db882",
   "metadata": {},
   "source": [
    "#### Q5.What is inheritance? Give an example for each type of inheritance."
   ]
  },
  {
   "cell_type": "markdown",
   "id": "a7d310cb",
   "metadata": {},
   "source": [
    "Ans) Inheritance is an important concept in OOP that allows one class to inherit attributes and methods from another class. This promotes code reusability and efficiency.\n",
    "\n"
   ]
  },
  {
   "cell_type": "markdown",
   "id": "4406fcc5",
   "metadata": {},
   "source": [
    "1)Single Inheritance – A child class inherits from one parent class."
   ]
  },
  {
   "cell_type": "code",
   "execution_count": 16,
   "id": "d989e85f",
   "metadata": {},
   "outputs": [
    {
     "name": "stdout",
     "output_type": "stream",
     "text": [
      "Bark\n"
     ]
    }
   ],
   "source": [
    "class Animal:\n",
    "    def sound(self):\n",
    "        return \"Some generic sound\"\n",
    "\n",
    "class Dog(Animal):\n",
    "    def sound(self):\n",
    "        return \"Bark\"\n",
    "\n",
    "d = Dog()\n",
    "print(d.sound())  # Output: Bark\n"
   ]
  },
  {
   "cell_type": "markdown",
   "id": "9aefde85",
   "metadata": {},
   "source": [
    "2)Multiple Inheritance – A child class inherits from multiple parent classes."
   ]
  },
  {
   "cell_type": "code",
   "execution_count": 17,
   "id": "078ce478",
   "metadata": {},
   "outputs": [
    {
     "name": "stdout",
     "output_type": "stream",
     "text": [
      "Method from Parent1\n",
      "Method from Parent2\n"
     ]
    }
   ],
   "source": [
    "class Parent1:\n",
    "    def method1(self):\n",
    "        return \"Method from Parent1\"\n",
    "\n",
    "class Parent2:\n",
    "    def method2(self):\n",
    "        return \"Method from Parent2\"\n",
    "\n",
    "class Child(Parent1, Parent2):\n",
    "    pass\n",
    "\n",
    "c = Child()\n",
    "print(c.method1())  # Output: Method from Parent1\n",
    "print(c.method2())  # Output: Method from Parent2\n"
   ]
  },
  {
   "cell_type": "markdown",
   "id": "d3afb88a",
   "metadata": {},
   "source": [
    "3)Multilevel Inheritance – A child class inherits from another child class."
   ]
  },
  {
   "cell_type": "code",
   "execution_count": 18,
   "id": "6b351cfa",
   "metadata": {},
   "outputs": [
    {
     "name": "stdout",
     "output_type": "stream",
     "text": [
      "Grandparent method\n",
      "Parent method\n"
     ]
    }
   ],
   "source": [
    "class Grandparent:\n",
    "    def grandparent_method(self):\n",
    "        return \"Grandparent method\"\n",
    "\n",
    "class Parent(Grandparent):\n",
    "    def parent_method(self):\n",
    "        return \"Parent method\"\n",
    "\n",
    "class Child(Parent):\n",
    "    pass\n",
    "\n",
    "c = Child()\n",
    "print(c.grandparent_method())  # Output: Grandparent method\n",
    "print(c.parent_method())       # Output: Parent method\n"
   ]
  },
  {
   "cell_type": "markdown",
   "id": "cde52424",
   "metadata": {},
   "source": [
    "4)Hierarchical Inheritance – Multiple child classes inherit from a single parent class."
   ]
  },
  {
   "cell_type": "code",
   "execution_count": 19,
   "id": "5d842d1d",
   "metadata": {},
   "outputs": [
    {
     "name": "stdout",
     "output_type": "stream",
     "text": [
      "All vehicles have wheels\n",
      "Bikes have 2 wheels\n"
     ]
    }
   ],
   "source": [
    "class Vehicle:\n",
    "    def general_info(self):\n",
    "        return \"All vehicles have wheels\"\n",
    "\n",
    "class Car(Vehicle):\n",
    "    def car_info(self):\n",
    "        return \"Cars have 4 wheels\"\n",
    "\n",
    "class Bike(Vehicle):\n",
    "    def bike_info(self):\n",
    "        return \"Bikes have 2 wheels\"\n",
    "\n",
    "c = Car()\n",
    "b = Bike()\n",
    "print(c.general_info())  # Output: All vehicles have wheels\n",
    "print(b.bike_info())     # Output: Bikes have 2 wheels\n"
   ]
  },
  {
   "cell_type": "markdown",
   "id": "3e2f4667",
   "metadata": {},
   "source": [
    "5)Hybrid Inheritance – A combination of multiple types of inheritance."
   ]
  },
  {
   "cell_type": "code",
   "execution_count": 20,
   "id": "5b353f65",
   "metadata": {},
   "outputs": [
    {
     "name": "stdout",
     "output_type": "stream",
     "text": [
      "Method from A\n"
     ]
    }
   ],
   "source": [
    "class A:\n",
    "    def methodA(self):\n",
    "        return \"Method from A\"\n",
    "\n",
    "class B(A):\n",
    "    def methodB(self):\n",
    "        return \"Method from B\"\n",
    "\n",
    "class C(A):\n",
    "    def methodC(self):\n",
    "        return \"Method from C\"\n",
    "\n",
    "class D(B, C):\n",
    "    pass\n",
    "\n",
    "d = D()\n",
    "print(d.methodA())  # Output: Method from A\n"
   ]
  }
 ],
 "metadata": {
  "kernelspec": {
   "display_name": "Python 3 (ipykernel)",
   "language": "python",
   "name": "python3"
  },
  "language_info": {
   "codemirror_mode": {
    "name": "ipython",
    "version": 3
   },
   "file_extension": ".py",
   "mimetype": "text/x-python",
   "name": "python",
   "nbconvert_exporter": "python",
   "pygments_lexer": "ipython3",
   "version": "3.9.7"
  }
 },
 "nbformat": 4,
 "nbformat_minor": 5
}
