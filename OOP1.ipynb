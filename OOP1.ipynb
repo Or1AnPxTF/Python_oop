{
 "cells": [
  {
   "cell_type": "markdown",
   "id": "070dbc34",
   "metadata": {},
   "source": [
    "#### Q1.Create a vehicle class with an init method having instance variables as name_of_vehicle, max_speed and average_of_vehicle. "
   ]
  },
  {
   "cell_type": "code",
   "execution_count": 11,
   "id": "5aaa23f3",
   "metadata": {},
   "outputs": [
    {
     "name": "stdout",
     "output_type": "stream",
     "text": [
      "Car 180 15\n"
     ]
    }
   ],
   "source": [
    "class Vehicle:\n",
    "    def __init__(self, name_vehicle, max_speed, avg_vehicle):\n",
    "        self.name_vehicle = name_vehicle\n",
    "        self.max_speed = max_speed\n",
    "        self.avg_vehicle = avg_vehicle\n",
    "\n",
    "# Example usage:\n",
    "vehicle1 = Vehicle(\"Car\", 180, 15)\n",
    "print(vehicle1.name_vehicle, vehicle1.max_speed, vehicle1.avg_vehicle)\n"
   ]
  },
  {
   "cell_type": "markdown",
   "id": "cb4f4e9b",
   "metadata": {},
   "source": [
    "#### Q2.Create a child class car from the vehicle class created in Que 1, which will inherit the vehicle class. Create a method named seating_capacity which takes capacity as an argument and returns the name of the vehicle and its seating capacity."
   ]
  },
  {
   "cell_type": "code",
   "execution_count": 12,
   "id": "c41ff6fd",
   "metadata": {},
   "outputs": [
    {
     "name": "stdout",
     "output_type": "stream",
     "text": [
      "Sedan has a seating capacity of 5.\n"
     ]
    }
   ],
   "source": [
    "class Vehicle:\n",
    "    def __init__(self, name_of_vehicle, max_speed, mileage):\n",
    "        self.name_of_vehicle = name_of_vehicle\n",
    "        self.max_speed = max_speed\n",
    "        self.mileage = mileage\n",
    "\n",
    "class Car(Vehicle):\n",
    "    def seating_capacity(self, capacity=5):\n",
    "        return f\"{self.name_of_vehicle} has a seating capacity of {capacity}.\"\n",
    "\n",
    "# Example usage:\n",
    "car1 = Car(\"Sedan\", 200, 12)\n",
    "print(car1.seating_capacity())  # Default seating capacity is 5\n"
   ]
  },
  {
   "cell_type": "markdown",
   "id": "2580770e",
   "metadata": {},
   "source": [
    " #### Q3. What is multiple inheritance? Write a python code to demonstrate multiple inheritance."
   ]
  },
  {
   "cell_type": "markdown",
   "id": "3207aa0f",
   "metadata": {},
   "source": [
    "Ans) Multiple inheritance:It occurs when a class the child class inherits from more than one parent class, allowing it to inherit attributes and methods from all of its parent classes"
   ]
  },
  {
   "cell_type": "code",
   "execution_count": 13,
   "id": "6edc28ec",
   "metadata": {},
   "outputs": [
    {
     "name": "stdout",
     "output_type": "stream",
     "text": [
      "This is Parent1\n",
      "This is Parent2\n",
      "This is Child class\n"
     ]
    }
   ],
   "source": [
    "class Parent1:\n",
    "    def show1(self):\n",
    "        print(\"This is Parent1\")\n",
    "\n",
    "class Parent2:\n",
    "    def show2(self):\n",
    "        print(\"This is Parent2\")\n",
    "\n",
    "class Child(Parent1, Parent2):\n",
    "    def show(self):\n",
    "        print(\"This is Child class\")\n",
    "\n",
    "# Example usage:\n",
    "obj = Child()\n",
    "obj.show1()\n",
    "obj.show2()\n",
    "obj.show()\n"
   ]
  },
  {
   "cell_type": "markdown",
   "id": "523c2e14",
   "metadata": {},
   "source": [
    "#### Q4. What are getter and setter in python? Create a class and create a getter and a setter method in this class."
   ]
  },
  {
   "cell_type": "markdown",
   "id": "aa1c08e1",
   "metadata": {},
   "source": [
    "Ans) Getters retrieve the value of an attribute where as Setters modify the value of an attribute with validation."
   ]
  },
  {
   "cell_type": "code",
   "execution_count": 14,
   "id": "eb83942f",
   "metadata": {},
   "outputs": [
    {
     "name": "stdout",
     "output_type": "stream",
     "text": [
      "20\n",
      "Age must be positive!\n"
     ]
    }
   ],
   "source": [
    "class Student:\n",
    "    def __init__(self, name, age):\n",
    "        self._name = name\n",
    "        self._age = age  # Private variable\n",
    "\n",
    "    @property\n",
    "    def age(self):\n",
    "        return self._age\n",
    "\n",
    "    @age.setter\n",
    "    def age(self, value):\n",
    "        if value > 0:\n",
    "            self._age = value\n",
    "        else:\n",
    "            print(\"Age must be positive!\")\n",
    "\n",
    "# Example usage:\n",
    "s = Student(\"Alice\", 20)\n",
    "print(s.age)\n",
    "s.age = 25  # Valid\n",
    "s.age = -5  # Invalid\n"
   ]
  },
  {
   "cell_type": "markdown",
   "id": "d9385267",
   "metadata": {},
   "source": [
    "#### Q5.What is method overriding in python? Write a python code to demonstrate method overriding."
   ]
  },
  {
   "cell_type": "markdown",
   "id": "dfb01643",
   "metadata": {},
   "source": [
    "Ans) Method overriding allows a subclass to provide a specific implementation of a method that is already defined in its superclass, enabling customized behavior while maintaining the same method signature"
   ]
  },
  {
   "cell_type": "code",
   "execution_count": 15,
   "id": "f716c153",
   "metadata": {},
   "outputs": [
    {
     "name": "stdout",
     "output_type": "stream",
     "text": [
      "This is Child class (Overridden method)\n"
     ]
    }
   ],
   "source": [
    "class Parent:\n",
    "    def show(self):\n",
    "        print(\"This is Parent class\")\n",
    "\n",
    "class Child(Parent):\n",
    "    def show(self):\n",
    "        print(\"This is Child class (Overridden method)\")\n",
    "\n",
    "# Example usage:\n",
    "obj = Child()\n",
    "obj.show()\n"
   ]
  }
 ],
 "metadata": {
  "kernelspec": {
   "display_name": "Python 3 (ipykernel)",
   "language": "python",
   "name": "python3"
  },
  "language_info": {
   "codemirror_mode": {
    "name": "ipython",
    "version": 3
   },
   "file_extension": ".py",
   "mimetype": "text/x-python",
   "name": "python",
   "nbconvert_exporter": "python",
   "pygments_lexer": "ipython3",
   "version": "3.9.7"
  }
 },
 "nbformat": 4,
 "nbformat_minor": 5
}
