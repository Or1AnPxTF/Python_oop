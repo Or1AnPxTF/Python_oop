{
 "cells": [
  {
   "cell_type": "markdown",
   "id": "8dbe8b90",
   "metadata": {},
   "source": [
    "#### Q1.What is Abstraction in OOps? Explain with an example."
   ]
  },
  {
   "cell_type": "markdown",
   "id": "27a29117",
   "metadata": {},
   "source": [
    "Ans) **Abstraction** is one of the core principles of Object-Oriented Programming. It refers to hiding the implementation details of an object and exposing only the necessary functionality. This means that the user does not need to know how a particular feature works internally; they only need to know how to use it."
   ]
  },
  {
   "cell_type": "code",
   "execution_count": 7,
   "id": "2b8d3823",
   "metadata": {},
   "outputs": [
    {
     "name": "stdout",
     "output_type": "stream",
     "text": [
      "Bark\n",
      "Meow\n"
     ]
    }
   ],
   "source": [
    "from abc import ABC, abstractmethod\n",
    "\n",
    "# Abstract class\n",
    "class Animal(ABC):  \n",
    "    @abstractmethod\n",
    "    def make_sound(self):\n",
    "        pass  # Abstract method with no implementation\n",
    "\n",
    "# Child class implementing the abstract method\n",
    "class Dog(Animal):\n",
    "    def make_sound(self):\n",
    "        return \"Bark\"\n",
    "\n",
    "class Cat(Animal):\n",
    "    def make_sound(self):\n",
    "        return \"Meow\"\n",
    "\n",
    "# Creating objects\n",
    "dog = Dog()\n",
    "cat = Cat()\n",
    "\n",
    "print(dog.make_sound())  \n",
    "print(cat.make_sound()) "
   ]
  },
  {
   "cell_type": "markdown",
   "id": "79356105",
   "metadata": {},
   "source": [
    "#### Q2.Differentiate between Abstraction and Encapsulation. Explain with an example."
   ]
  },
  {
   "cell_type": "markdown",
   "id": "bc234a66",
   "metadata": {},
   "source": [
    "Ans)1.**Abstraction** is the process of hiding the implementation details of an object and exposing only the essential features that a user needs to interact with. It focuses on what an object does rather than how it does it.\n",
    "\n",
    "It is used to simplify complex systems by allowing users to work with high-level interfaces without worrying about the internal workings.\n",
    "\n",
    "Itis implemented using abstract classes and interfaces, which define methods without implementation, forcing subclasses to provide their own versions of those methods.\n",
    "\n",
    "Abstraction Example: An ATM machine allows users to withdraw money by pressing a few buttons, but they do not see the backend processes like authentication, balance checking, and transaction handling."
   ]
  },
  {
   "cell_type": "markdown",
   "id": "352fb529",
   "metadata": {},
   "source": [
    "Abstraction Example:"
   ]
  },
  {
   "cell_type": "code",
   "execution_count": 8,
   "id": "05c99910",
   "metadata": {},
   "outputs": [
    {
     "name": "stdout",
     "output_type": "stream",
     "text": [
      "Car engine started.\n"
     ]
    }
   ],
   "source": [
    "from abc import ABC, abstractmethod\n",
    "\n",
    "class Vehicle(ABC):  \n",
    "    @abstractmethod\n",
    "    def start_engine(self):\n",
    "        pass  \n",
    "\n",
    "class Car(Vehicle):\n",
    "    def start_engine(self):\n",
    "        return \"Car engine started.\"\n",
    "\n",
    "# Creating an object of the Car class\n",
    "car = Car()\n",
    "print(car.start_engine())  \n"
   ]
  },
  {
   "cell_type": "markdown",
   "id": "293ab07f",
   "metadata": {},
   "source": [
    "Ans)2.**Encapsulation** is the technique of bundling data (variables) and methods into a single class while restricting direct access to some details. It ensures data protection by controlling how data is accessed and modified.\n",
    "\n",
    "Encapsulation is used to protect data integrity by preventing unauthorized access and ensuring that changes to the data happen only through controlled mechanisms.\n",
    "\n",
    "It is implemented by declaring attributes as private or protected and providing getter and setter methods to access and modify them.\n",
    "\n",
    "Encapsulation Example: A medical record system keeps patient data private, allowing only authorized users (such as doctors) to access and update records through specific functions."
   ]
  },
  {
   "cell_type": "markdown",
   "id": "15facdef",
   "metadata": {},
   "source": [
    "Encapsulation Example:"
   ]
  },
  {
   "cell_type": "code",
   "execution_count": 9,
   "id": "9631cd25",
   "metadata": {},
   "outputs": [
    {
     "name": "stdout",
     "output_type": "stream",
     "text": [
      "1500\n"
     ]
    }
   ],
   "source": [
    "class BankAccount:\n",
    "    def __init__(self, balance):\n",
    "        self.__balance = balance  # Private variable\n",
    "\n",
    "    def deposit(self, amount):\n",
    "        self.__balance += amount\n",
    "\n",
    "    def get_balance(self):\n",
    "        return self.__balance\n",
    "\n",
    "# Creating an account object\n",
    "account = BankAccount(1000)\n",
    "account.deposit(500)\n",
    "print(account.get_balance())  "
   ]
  },
  {
   "cell_type": "markdown",
   "id": "f88cf6a7",
   "metadata": {},
   "source": [
    "#### Q3.What is abc module in python? Why is it used?"
   ]
  },
  {
   "cell_type": "markdown",
   "id": "c0450c01",
   "metadata": {},
   "source": [
    "Ans) The abc (Abstract Base Class) module in Python is used to define abstract classes. An abstract class is a class that cannot be instantiated and serves as a blueprint for other classes.\n",
    "\n",
    "Uses:\n",
    "\n",
    "1.Ensures that child classes implement specific methods.\n",
    "\n",
    "2.Prevents the creation of incomplete objects (objects of classes missing critical implementations).\n",
    "\n",
    "3.Promotes code organization and maintainability by enforcing structure."
   ]
  },
  {
   "cell_type": "markdown",
   "id": "4d4477f2",
   "metadata": {},
   "source": [
    "#### Q4.How can we achieve data abstraction?"
   ]
  },
  {
   "cell_type": "markdown",
   "id": "19135e92",
   "metadata": {},
   "source": [
    "Ans)**Data Abstraction** can be achieved in Python using abstract classes and interfaces. By defining abstract methods in an abstract class, we can ensure that subclasses implement specific functionality while hiding the implementation details.\n",
    "\n",
    "##### Steps to Achieve Data Abstraction:\n",
    "\n",
    "1.Define an abstract class using ABC.\n",
    "\n",
    "2.Declare abstract methods using @abstractmethod.\n",
    "\n",
    "3.Create subclasses that implement the abstract methods.\n",
    "\n",
    "4.Use objects of the child classes to interact with the system."
   ]
  },
  {
   "cell_type": "markdown",
   "id": "e1a43ba1",
   "metadata": {},
   "source": [
    "#### Q5.Can we create an instance of an abstract class? Explain your answer"
   ]
  },
  {
   "cell_type": "markdown",
   "id": "a83a9e06",
   "metadata": {},
   "source": [
    "Ans)**No**, we cannot create an instance of an abstract class in Python. An abstract class serves as a blueprint for subclasses and does not have complete implementations. Attempting to instantiate an abstract class will result in an error.To use an abstract class, we must create a subclass that provides concrete implementations of the abstract methods."
   ]
  }
 ],
 "metadata": {
  "kernelspec": {
   "display_name": "Python 3 (ipykernel)",
   "language": "python",
   "name": "python3"
  },
  "language_info": {
   "codemirror_mode": {
    "name": "ipython",
    "version": 3
   },
   "file_extension": ".py",
   "mimetype": "text/x-python",
   "name": "python",
   "nbconvert_exporter": "python",
   "pygments_lexer": "ipython3",
   "version": "3.9.7"
  }
 },
 "nbformat": 4,
 "nbformat_minor": 5
}
